{
 "cells": [
  {
   "cell_type": "code",
   "execution_count": 3,
   "id": "8430cb85",
   "metadata": {},
   "outputs": [
    {
     "name": "stdout",
     "output_type": "stream",
     "text": [
      "Gemini API Key Loaded: True\n"
     ]
    }
   ],
   "source": [
    "import os\n",
    "from dotenv import load_dotenv, find_dotenv\n",
    "import google.generativeai as genai\n",
    "\n",
    "_ = load_dotenv(find_dotenv())\n",
    "\n",
    "GEMINI_API_KEY = os.getenv(\"GEMINI_API_KEY\")\n",
    "print(\"Gemini API Key Loaded:\", bool(GEMINI_API_KEY))"
   ]
  },
  {
   "cell_type": "code",
   "execution_count": 4,
   "id": "e692eea3",
   "metadata": {},
   "outputs": [],
   "source": [
    "genai.configure(api_key=GEMINI_API_KEY)\n",
    "\n",
    "model = genai.GenerativeModel(\"gemini-1.5-flash\")"
   ]
  },
  {
   "cell_type": "markdown",
   "id": "0923eacf",
   "metadata": {},
   "source": [
    "### Data Load"
   ]
  },
  {
   "cell_type": "markdown",
   "id": "8c490d86",
   "metadata": {},
   "source": [
    "#### Txt data loder"
   ]
  },
  {
   "cell_type": "code",
   "execution_count": 10,
   "id": "5dff033c",
   "metadata": {},
   "outputs": [],
   "source": [
    "from langchain_community.document_loaders import TextLoader\n",
    "\n",
    "Text_loader = TextLoader('./Data folder/text.txt')\n",
    "Text_loader_data = Text_loader.load()"
   ]
  },
  {
   "cell_type": "code",
   "execution_count": 11,
   "id": "9d6cae0e",
   "metadata": {},
   "outputs": [
    {
     "data": {
      "text/plain": [
       "[Document(metadata={'source': './Data folder/text.txt'}, page_content='Artificial Intelligence (AI) is an interdisciplinary field of computer science that aims to create machines and systems capable of performing tasks that would normally require human intelligence. These tasks include reasoning, problem-solving, understanding natural language, recognizing images and patterns, making decisions, and learning from past experiences. Over the years, AI has evolved from simple rule-based systems to sophisticated machine learning and deep learning algorithms that can process vast amounts of data to generate predictions, insights, and autonomous actions. There are several categories of AI: Narrow AI, which is designed to perform a specific task such as voice assistants, recommendation systems, or spam filtering; General AI, which remains a theoretical concept capable of performing any intellectual task that a human can; and Superintelligent AI, a futuristic notion in which machines surpass human intelligence in all cognitive functions. AI has become an integral part of modern life and is transforming multiple sectors, including healthcare, finance, transportation, education, manufacturing, and entertainment. In healthcare, AI systems analyze medical images, predict patient outcomes, assist in drug discovery, and provide personalized treatment recommendations. In finance, AI is used for fraud detection, algorithmic trading, credit scoring, and financial risk management. Autonomous vehicles rely heavily on AI for real-time perception, navigation, and decision-making to ensure safe driving in complex environments. In education, AI-driven platforms provide personalized learning experiences, adaptive assessments, and intelligent tutoring systems that cater to individual student needs. AI also plays a significant role in natural language processing, enabling chatbots, virtual assistants, machine translation, and content generation tools that enhance communication and productivity. Despite its enormous potential, AI presents several challenges and risks. Ethical concerns include algorithmic bias, lack of transparency, accountability issues, and the potential for discrimination based on flawed data or decision-making processes. Job displacement due to automation and intelligent systems replacing human labor in certain sectors remains a pressing social concern. Security risks arise as AI can be exploited for cyber attacks, surveillance, deepfake generation, and misinformation campaigns. Furthermore, the rapid development of AI technologies has raised debates about governance, regulation, and the long-term impact on society. Researchers and policymakers are emphasizing the importance of responsible AI, which includes developing transparent, fair, and explainable AI systems while ensuring privacy and security standards. Looking forward, AI is expected to continue revolutionizing industries by enhancing efficiency, decision-making, innovation, and problem-solving capabilities. Emerging areas like reinforcement learning, generative AI, and AI-driven robotics promise to unlock new possibilities in science, technology, and everyday life. However, the future of AI will depend not only on technical advancements but also on societyâ€™s ability to adopt ethical frameworks, balance innovation with responsibility, and ensure that AI serves humanity in ways that are equitable, safe, and beneficial for all.')]"
      ]
     },
     "execution_count": 11,
     "metadata": {},
     "output_type": "execute_result"
    }
   ],
   "source": [
    "Text_loader_data"
   ]
  },
  {
   "cell_type": "markdown",
   "id": "2cbe0e92",
   "metadata": {},
   "source": [
    "#### CSV Loader"
   ]
  },
  {
   "cell_type": "code",
   "execution_count": 12,
   "id": "0e6e3bc2",
   "metadata": {},
   "outputs": [],
   "source": [
    "from langchain_community.document_loaders import CSVLoader\n",
    "\n",
    "CSV_loader = CSVLoader('./Data folder/industry.csv')\n",
    "\n",
    "CSV_loaded_data = CSV_loader.load()"
   ]
  },
  {
   "cell_type": "code",
   "execution_count": 13,
   "id": "594db570",
   "metadata": {},
   "outputs": [
    {
     "data": {
      "text/plain": [
       "[Document(metadata={'source': './Data folder/industry.csv', 'row': 0}, page_content='Industry: Accounting/Finance'),\n",
       " Document(metadata={'source': './Data folder/industry.csv', 'row': 1}, page_content='Industry: Advertising/Public Relations'),\n",
       " Document(metadata={'source': './Data folder/industry.csv', 'row': 2}, page_content='Industry: Aerospace/Aviation'),\n",
       " Document(metadata={'source': './Data folder/industry.csv', 'row': 3}, page_content='Industry: Arts/Entertainment/Publishing'),\n",
       " Document(metadata={'source': './Data folder/industry.csv', 'row': 4}, page_content='Industry: Automotive'),\n",
       " Document(metadata={'source': './Data folder/industry.csv', 'row': 5}, page_content='Industry: Banking/Mortgage'),\n",
       " Document(metadata={'source': './Data folder/industry.csv', 'row': 6}, page_content='Industry: Business Development'),\n",
       " Document(metadata={'source': './Data folder/industry.csv', 'row': 7}, page_content='Industry: Business Opportunity'),\n",
       " Document(metadata={'source': './Data folder/industry.csv', 'row': 8}, page_content='Industry: Clerical/Administrative'),\n",
       " Document(metadata={'source': './Data folder/industry.csv', 'row': 9}, page_content='Industry: Construction/Facilities'),\n",
       " Document(metadata={'source': './Data folder/industry.csv', 'row': 10}, page_content='Industry: Consumer Goods'),\n",
       " Document(metadata={'source': './Data folder/industry.csv', 'row': 11}, page_content='Industry: Customer Service'),\n",
       " Document(metadata={'source': './Data folder/industry.csv', 'row': 12}, page_content='Industry: Education/Training'),\n",
       " Document(metadata={'source': './Data folder/industry.csv', 'row': 13}, page_content='Industry: Energy/Utilities'),\n",
       " Document(metadata={'source': './Data folder/industry.csv', 'row': 14}, page_content='Industry: Engineering'),\n",
       " Document(metadata={'source': './Data folder/industry.csv', 'row': 15}, page_content='Industry: Government/Military'),\n",
       " Document(metadata={'source': './Data folder/industry.csv', 'row': 16}, page_content='Industry: Green'),\n",
       " Document(metadata={'source': './Data folder/industry.csv', 'row': 17}, page_content='Industry: Healthcare'),\n",
       " Document(metadata={'source': './Data folder/industry.csv', 'row': 18}, page_content='Industry: Hospitality/Travel'),\n",
       " Document(metadata={'source': './Data folder/industry.csv', 'row': 19}, page_content='Industry: Human Resources'),\n",
       " Document(metadata={'source': './Data folder/industry.csv', 'row': 20}, page_content='Industry: Installation/Maintenance'),\n",
       " Document(metadata={'source': './Data folder/industry.csv', 'row': 21}, page_content='Industry: Insurance'),\n",
       " Document(metadata={'source': './Data folder/industry.csv', 'row': 22}, page_content='Industry: Internet'),\n",
       " Document(metadata={'source': './Data folder/industry.csv', 'row': 23}, page_content='Industry: Job Search Aids'),\n",
       " Document(metadata={'source': './Data folder/industry.csv', 'row': 24}, page_content='Industry: Law Enforcement/Security'),\n",
       " Document(metadata={'source': './Data folder/industry.csv', 'row': 25}, page_content='Industry: Legal'),\n",
       " Document(metadata={'source': './Data folder/industry.csv', 'row': 26}, page_content='Industry: Management/Executive'),\n",
       " Document(metadata={'source': './Data folder/industry.csv', 'row': 27}, page_content='Industry: Manufacturing/Operations'),\n",
       " Document(metadata={'source': './Data folder/industry.csv', 'row': 28}, page_content='Industry: Marketing'),\n",
       " Document(metadata={'source': './Data folder/industry.csv', 'row': 29}, page_content='Industry: Non-Profit/Volunteer'),\n",
       " Document(metadata={'source': './Data folder/industry.csv', 'row': 30}, page_content='Industry: Pharmaceutical/Biotech'),\n",
       " Document(metadata={'source': './Data folder/industry.csv', 'row': 31}, page_content='Industry: Professional Services'),\n",
       " Document(metadata={'source': './Data folder/industry.csv', 'row': 32}, page_content='Industry: QA/Quality Control'),\n",
       " Document(metadata={'source': './Data folder/industry.csv', 'row': 33}, page_content='Industry: Real Estate'),\n",
       " Document(metadata={'source': './Data folder/industry.csv', 'row': 34}, page_content='Industry: Restaurant/Food Service'),\n",
       " Document(metadata={'source': './Data folder/industry.csv', 'row': 35}, page_content='Industry: Retail'),\n",
       " Document(metadata={'source': './Data folder/industry.csv', 'row': 36}, page_content='Industry: Sales'),\n",
       " Document(metadata={'source': './Data folder/industry.csv', 'row': 37}, page_content='Industry: Science/Research'),\n",
       " Document(metadata={'source': './Data folder/industry.csv', 'row': 38}, page_content='Industry: Skilled Labor'),\n",
       " Document(metadata={'source': './Data folder/industry.csv', 'row': 39}, page_content='Industry: Technology'),\n",
       " Document(metadata={'source': './Data folder/industry.csv', 'row': 40}, page_content='Industry: Telecommunications'),\n",
       " Document(metadata={'source': './Data folder/industry.csv', 'row': 41}, page_content='Industry: Transportation/Logistics'),\n",
       " Document(metadata={'source': './Data folder/industry.csv', 'row': 42}, page_content='Industry: Other')]"
      ]
     },
     "execution_count": 13,
     "metadata": {},
     "output_type": "execute_result"
    }
   ],
   "source": [
    "CSV_loaded_data"
   ]
  },
  {
   "cell_type": "markdown",
   "id": "c0177cd9",
   "metadata": {},
   "source": [
    "#### Wikipedia data loader"
   ]
  },
  {
   "cell_type": "code",
   "execution_count": null,
   "id": "b029acc3",
   "metadata": {},
   "outputs": [],
   "source": [
    "from langchain_community.document_loaders import WikipediaLoader\n",
    "\n",
    "Wikipedia_loader = WikipediaLoader(query=\"Face book\", load_max_docs=1)\n",
    "\n",
    "Wikipedia_loaded_data = Wikipedia_loader.load()[0].page_content"
   ]
  },
  {
   "cell_type": "code",
   "execution_count": null,
   "id": "64311121",
   "metadata": {},
   "outputs": [],
   "source": [
    "Wikipedia_loaded_data "
   ]
  }
 ],
 "metadata": {
  "kernelspec": {
   "display_name": "venv",
   "language": "python",
   "name": "python3"
  },
  "language_info": {
   "codemirror_mode": {
    "name": "ipython",
    "version": 3
   },
   "file_extension": ".py",
   "mimetype": "text/x-python",
   "name": "python",
   "nbconvert_exporter": "python",
   "pygments_lexer": "ipython3",
   "version": "3.13.2"
  }
 },
 "nbformat": 4,
 "nbformat_minor": 5
}
