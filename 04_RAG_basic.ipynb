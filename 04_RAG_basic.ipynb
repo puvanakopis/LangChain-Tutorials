{
 "cells": [
  {
   "cell_type": "code",
   "execution_count": 1,
   "id": "dd9dc5f4",
   "metadata": {},
   "outputs": [
    {
     "name": "stdout",
     "output_type": "stream",
     "text": [
      "API Key Loaded: True\n"
     ]
    },
    {
     "name": "stderr",
     "output_type": "stream",
     "text": [
      "c:\\Users\\Asus\\Desktop\\LangChain-Tutorials\\venv\\Lib\\site-packages\\tqdm\\auto.py:21: TqdmWarning: IProgress not found. Please update jupyter and ipywidgets. See https://ipywidgets.readthedocs.io/en/stable/user_install.html\n",
      "  from .autonotebook import tqdm as notebook_tqdm\n"
     ]
    }
   ],
   "source": [
    "import os\n",
    "from dotenv import load_dotenv\n",
    "import google.generativeai as genai\n",
    "   \n",
    "load_dotenv()\n",
    "GEMINI_API_KEY = os.getenv(\"GEMINI_API_KEY\")\n",
    "\n",
    "print(\"API Key Loaded:\", bool(GEMINI_API_KEY))\n",
    "\n",
    "genai.configure(api_key=GEMINI_API_KEY)"
   ]
  },
  {
   "cell_type": "markdown",
   "id": "66711f15",
   "metadata": {},
   "source": [
    "### Load PDF file"
   ]
  },
  {
   "cell_type": "code",
   "execution_count": 2,
   "id": "a05897a4",
   "metadata": {},
   "outputs": [
    {
     "name": "stdout",
     "output_type": "stream",
     "text": [
      "Total pages loaded: 9\n"
     ]
    }
   ],
   "source": [
    "from langchain_community.document_loaders import PyPDFLoader\n",
    "\n",
    "loader = PyPDFLoader(\"./Data folder//Introduction_To_AI.pdf\")\n",
    "documents = loader.load()\n",
    "  \n",
    "print(f\"Total pages loaded: {len(documents)}\")"
   ]
  },
  {
   "cell_type": "markdown",
   "id": "4c7d7b9d",
   "metadata": {},
   "source": [
    "### Split documents into chunks"
   ]
  },
  {
   "cell_type": "code",
   "execution_count": 3,
   "id": "d13ca277",
   "metadata": {},
   "outputs": [
    {
     "name": "stdout",
     "output_type": "stream",
     "text": [
      "Total chunks created: 18\n"
     ]
    }
   ],
   "source": [
    "from langchain.text_splitter import RecursiveCharacterTextSplitter\n",
    "\n",
    "text_splitter = RecursiveCharacterTextSplitter(\n",
    "    chunk_size=1000,  \n",
    "    chunk_overlap=200\n",
    ")\n",
    "docs = text_splitter.split_documents(documents)\n",
    "\n",
    "print(f\"Total chunks created: {len(docs)}\")"
   ]
  },
  {
   "cell_type": "markdown",
   "id": "ddf4cc78",
   "metadata": {},
   "source": [
    "### Create embeddings & store in ChromaDB"
   ]
  },
  {
   "cell_type": "code",
   "execution_count": 4,
   "id": "aded78f6",
   "metadata": {},
   "outputs": [
    {
     "name": "stdout",
     "output_type": "stream",
     "text": [
      "Data stored in ChromaDB\n"
     ]
    }
   ],
   "source": [
    "from langchain_huggingface import HuggingFaceEmbeddings\n",
    "from langchain_community.vectorstores import Chroma\n",
    "\n",
    "embeddings = HuggingFaceEmbeddings(model_name=\"sentence-transformers/all-MiniLM-L6-v2\")\n",
    "\n",
    "persist_directory = \"./chroma_db\"\n",
    "\n",
    "vectorstore = Chroma.from_documents(\n",
    "    documents=docs,\n",
    "    embedding=embeddings,\n",
    "    persist_directory=persist_directory\n",
    ")\n",
    "\n",
    "print(\"Data stored in ChromaDB\")"
   ]
  },
  {
   "cell_type": "markdown",
   "id": "0c9b34ae",
   "metadata": {},
   "source": [
    "### Query function"
   ]
  },
  {
   "cell_type": "code",
   "execution_count": 5,
   "id": "145eba87",
   "metadata": {},
   "outputs": [],
   "source": [
    "def query_with_gemini(question: str, top_k: int = 3):\n",
    "\n",
    "    results = vectorstore.similarity_search(question, k=top_k)\n",
    "    if not results:\n",
    "        return \"No data\"\n",
    "    \n",
    "    context = \" \".join([doc.page_content for doc in results])\n",
    "    \n",
    "    prompt = f\"\"\"You are an AI assistant. Use the following context to answer the question.\n",
    "    Context: {context}\n",
    "    Question: {question}\"\"\"\n",
    "    \n",
    "    model = genai.GenerativeModel()\n",
    "    response = model.generate_content(prompt)    \n",
    "    return response.text.strip()"
   ]
  },
  {
   "cell_type": "markdown",
   "id": "3a886391",
   "metadata": {},
   "source": [
    "### Ask a test question"
   ]
  },
  {
   "cell_type": "code",
   "execution_count": 6,
   "id": "06ec2ca2",
   "metadata": {},
   "outputs": [
    {
     "name": "stdout",
     "output_type": "stream",
     "text": [
      "Question: What is Artificial Intelligence?\n",
      "Answer: Artificial Intelligence (AI) is a computing concept that enables machines to think and solve complex problems like humans do.  AI systems work on a problem, make mistakes, and learn from those mistakes in a self-correcting manner to improve their performance.  This is analogous to humans learning from their errors, such as improving chess strategy by analyzing past losses and adjusting future moves.\n"
     ]
    }
   ],
   "source": [
    "if __name__ == \"__main__\":\n",
    "    question = \"What is Artificial Intelligence?\"\n",
    "    answer = query_with_gemini(question)\n",
    "    print(\"Question:\", question)\n",
    "    print(\"Answer:\", answer)"
   ]
  }
 ],
 "metadata": {
  "kernelspec": {
   "display_name": "venv",
   "language": "python",
   "name": "python3"
  },
  "language_info": {
   "codemirror_mode": {
    "name": "ipython",
    "version": 3
   },
   "file_extension": ".py",
   "mimetype": "text/x-python",
   "name": "python",
   "nbconvert_exporter": "python",
   "pygments_lexer": "ipython3",
   "version": "3.13.2"
  }
 },
 "nbformat": 4,
 "nbformat_minor": 5
}
