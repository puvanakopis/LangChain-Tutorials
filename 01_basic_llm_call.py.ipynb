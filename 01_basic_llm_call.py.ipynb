{
 "cells": [
  {
   "cell_type": "markdown",
   "id": "2489a5bc",
   "metadata": {},
   "source": [
    "### Load GROQ API key from .env file"
   ]
  },
  {
   "cell_type": "code",
   "execution_count": 1,
   "id": "e4e12fc8",
   "metadata": {},
   "outputs": [
    {
     "name": "stdout",
     "output_type": "stream",
     "text": [
      "Groq API Key Loaded: True\n"
     ]
    }
   ],
   "source": [
    "import os\n",
    "from dotenv import load_dotenv, find_dotenv\n",
    "\n",
    "_ = load_dotenv(find_dotenv())\n",
    "\n",
    "GROQ_API_KEY = os.getenv(\"GROQ_API_KEY\")\n",
    "print(\"Groq API Key Loaded:\", bool(GROQ_API_KEY))"
   ]
  },
  {
   "cell_type": "markdown",
   "id": "0745c60f",
   "metadata": {},
   "source": [
    "### Initialize Groq LLM model"
   ]
  },
  {
   "cell_type": "code",
   "execution_count": 2,
   "id": "4666c755",
   "metadata": {},
   "outputs": [],
   "source": [
    "from langchain_groq import ChatGroq\n",
    "\n",
    "llmModel = ChatGroq(\n",
    "    model=\"llama3-8b-8192\", \n",
    "    groq_api_key=os.getenv(\"GROQ_API_KEY\")\n",
    ")"
   ]
  },
  {
   "cell_type": "code",
   "execution_count": 5,
   "id": "0626abcd",
   "metadata": {},
   "outputs": [
    {
     "name": "stdout",
     "output_type": "stream",
     "text": [
      "The capital of France is Paris.\n"
     ]
    }
   ],
   "source": [
    "response = llmModel.invoke(\"What is the capital of France?\")\n",
    "print(response.content)"
   ]
  }
 ],
 "metadata": {
  "kernelspec": {
   "display_name": "venv",
   "language": "python",
   "name": "python3"
  },
  "language_info": {
   "codemirror_mode": {
    "name": "ipython",
    "version": 3
   },
   "file_extension": ".py",
   "mimetype": "text/x-python",
   "name": "python",
   "nbconvert_exporter": "python",
   "pygments_lexer": "ipython3",
   "version": "3.13.2"
  }
 },
 "nbformat": 4,
 "nbformat_minor": 5
}
