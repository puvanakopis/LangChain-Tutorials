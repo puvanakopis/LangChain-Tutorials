{
 "cells": [
  {
   "cell_type": "markdown",
   "id": "2489a5bc",
   "metadata": {},
   "source": [
    "### Load Gemini api key from .env file"
   ]
  },
  {
   "cell_type": "code",
   "execution_count": 8,
   "id": "e4e12fc8",
   "metadata": {},
   "outputs": [
    {
     "name": "stdout",
     "output_type": "stream",
     "text": [
      "Gemini API Key Loaded: True\n"
     ]
    }
   ],
   "source": [
    "import os\n",
    "from dotenv import load_dotenv, find_dotenv\n",
    "import google.generativeai as genai\n",
    "\n",
    "_ = load_dotenv(find_dotenv())\n",
    "\n",
    "GEMINI_API_KEY = os.getenv(\"GEMINI_API_KEY\")\n",
    "print(\"Gemini API Key Loaded:\", bool(GEMINI_API_KEY))"
   ]
  },
  {
   "cell_type": "markdown",
   "id": "0745c60f",
   "metadata": {},
   "source": [
    "### Completion model"
   ]
  },
  {
   "cell_type": "code",
   "execution_count": 14,
   "id": "4666c755",
   "metadata": {},
   "outputs": [],
   "source": [
    "genai.configure(api_key=GEMINI_API_KEY)\n",
    "\n",
    "model = genai.GenerativeModel(\"gemini-1.5-flash\")"
   ]
  },
  {
   "cell_type": "code",
   "execution_count": 15,
   "id": "0626abcd",
   "metadata": {},
   "outputs": [
    {
     "name": "stdout",
     "output_type": "stream",
     "text": [
      "Paris\n",
      "\n"
     ]
    }
   ],
   "source": [
    "response = model.generate_content(\"What is the capital of France?\")\n",
    "\n",
    "print(response.text)"
   ]
  },
  {
   "cell_type": "markdown",
   "id": "a269cc1a",
   "metadata": {},
   "source": [
    "### Chat Completion model"
   ]
  },
  {
   "cell_type": "code",
   "execution_count": 16,
   "id": "02a055d5",
   "metadata": {},
   "outputs": [
    {
     "name": "stdout",
     "output_type": "stream",
     "text": [
      "Chat Response 1: I am a large language model, trained by Google.\n",
      "\n",
      "Chat Response 2: Paris\n",
      "\n",
      "Chat Response 3: The Eiffel Tower is the most famous monument in Paris.\n",
      "\n"
     ]
    }
   ],
   "source": [
    "chat = model.start_chat(history=[])\n",
    "\n",
    "response1 = chat.send_message(\"Hello, who are you?\")\n",
    "print(\"Chat Response 1:\", response1.text)\n",
    "\n",
    "response2 = chat.send_message(\"What is the capital of France?\")\n",
    "print(\"Chat Response 2:\", response2.text)\n",
    "\n",
    "response3 = chat.send_message(\"What famous monument is there?\")\n",
    "print(\"Chat Response 3:\", response3.text)"
   ]
  }
 ],
 "metadata": {
  "kernelspec": {
   "display_name": "venv",
   "language": "python",
   "name": "python3"
  },
  "language_info": {
   "codemirror_mode": {
    "name": "ipython",
    "version": 3
   },
   "file_extension": ".py",
   "mimetype": "text/x-python",
   "name": "python",
   "nbconvert_exporter": "python",
   "pygments_lexer": "ipython3",
   "version": "3.13.2"
  }
 },
 "nbformat": 4,
 "nbformat_minor": 5
}
