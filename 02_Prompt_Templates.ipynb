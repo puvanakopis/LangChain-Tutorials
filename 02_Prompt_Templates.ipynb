{
 "cells": [
  {
   "cell_type": "code",
   "execution_count": 36,
   "id": "5539dca3",
   "metadata": {},
   "outputs": [
    {
     "name": "stdout",
     "output_type": "stream",
     "text": [
      "Gemini API Key Loaded: True\n"
     ]
    }
   ],
   "source": [
    "import os\n",
    "from dotenv import load_dotenv, find_dotenv\n",
    "import google.generativeai as genai\n",
    "\n",
    "_ = load_dotenv(find_dotenv())\n",
    "\n",
    "GEMINI_API_KEY = os.getenv(\"GEMINI_API_KEY\")\n",
    "print(\"Gemini API Key Loaded:\", bool(GEMINI_API_KEY))"
   ]
  },
  {
   "cell_type": "code",
   "execution_count": 37,
   "id": "171c16ad",
   "metadata": {},
   "outputs": [],
   "source": [
    "genai.configure(api_key=GEMINI_API_KEY)\n",
    "\n",
    "model = genai.GenerativeModel(\"gemini-1.5-flash\")"
   ]
  },
  {
   "cell_type": "markdown",
   "id": "2a1758fd",
   "metadata": {},
   "source": [
    "### Prompt Templates for completion"
   ]
  },
  {
   "cell_type": "code",
   "execution_count": null,
   "id": "d65eab0a",
   "metadata": {},
   "outputs": [],
   "source": [
    "from langchain_core.prompts import PromptTemplate\n",
    "\n",
    "prompt_template = PromptTemplate.from_template(\n",
    "    \"Tell me a {adjective} story about {topic}\"\n",
    ")"
   ]
  },
  {
   "cell_type": "code",
   "execution_count": 39,
   "id": "7820138e",
   "metadata": {},
   "outputs": [],
   "source": [
    "llmModelPrompt = prompt_template.format(\n",
    "    adjective=\"curious\",\n",
    "    topic=\"Tesla\"\n",
    ")"
   ]
  },
  {
   "cell_type": "code",
   "execution_count": null,
   "id": "9e6686da",
   "metadata": {},
   "outputs": [],
   "source": [
    "res = model.generate(messages=[{\"role\": \"user\", \"content\": llmModelPrompt}])\n",
    "print(\"Generated Text:\\n\", res.output_text)"
   ]
  },
  {
   "cell_type": "markdown",
   "id": "23496ca7",
   "metadata": {},
   "source": [
    "### Prompt Templates for chat completion"
   ]
  },
  {
   "cell_type": "code",
   "execution_count": 2,
   "id": "6dd6a466",
   "metadata": {},
   "outputs": [],
   "source": [
    "from langchain_core.prompts import ChatPromptTemplate\n",
    "\n",
    "chat_template = ChatPromptTemplate.from_messages(\n",
    "    [\n",
    "        (\"system\", \"You are an {profession} expert on {topic}.\"),\n",
    "        (\"human\", \"Hello, {profession}, can you answer a question for me?\"),\n",
    "        (\"ai\", \"Of course! I am happy to help.\"),\n",
    "        (\"human\", \"{user_input}\"),\n",
    "    ]\n",
    ")"
   ]
  },
  {
   "cell_type": "code",
   "execution_count": 3,
   "id": "90e3e1e6",
   "metadata": {},
   "outputs": [],
   "source": [
    "messages = chat_template.format_messages(\n",
    "    profession=\"Historian\",\n",
    "    topic=\"The Kennedy family\",\n",
    "    user_input=\"How many grandchildren did Joseph P. Kennedy have?\"\n",
    ")"
   ]
  },
  {
   "cell_type": "code",
   "execution_count": 4,
   "id": "a91e2c70",
   "metadata": {},
   "outputs": [],
   "source": [
    "gemini_messages = [{\"role\": msg.type, \"content\": msg.content} for msg in messages]"
   ]
  },
  {
   "cell_type": "code",
   "execution_count": null,
   "id": "04dfe243",
   "metadata": {},
   "outputs": [],
   "source": [
    "res = model.generate(messages=gemini_messages)\n",
    "print(res.output_text)"
   ]
  }
 ],
 "metadata": {
  "kernelspec": {
   "display_name": "venv",
   "language": "python",
   "name": "python3"
  },
  "language_info": {
   "codemirror_mode": {
    "name": "ipython",
    "version": 3
   },
   "file_extension": ".py",
   "mimetype": "text/x-python",
   "name": "python",
   "nbconvert_exporter": "python",
   "pygments_lexer": "ipython3",
   "version": "3.13.2"
  }
 },
 "nbformat": 4,
 "nbformat_minor": 5
}
